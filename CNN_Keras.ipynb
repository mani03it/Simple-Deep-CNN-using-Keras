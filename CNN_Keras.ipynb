{
  "nbformat": 4,
  "nbformat_minor": 0,
  "metadata": {
    "colab": {
      "name": "CNN_Keras.ipynb",
      "version": "0.3.2",
      "provenance": [],
      "collapsed_sections": []
    },
    "kernelspec": {
      "name": "python3",
      "display_name": "Python 3"
    },
    "accelerator": "GPU"
  },
  "cells": [
    {
      "cell_type": "markdown",
      "metadata": {
        "id": "LKNFEvwxrOaZ",
        "colab_type": "text"
      },
      "source": [
        "### Simple Deep CNN on CIFAR10 small images Dataset\n",
        "\n",
        "The following code illustrates the implementation of Simple Deep CNN on CIFAR10 small images dataset using Keras and Tensorflow backend."
      ]
    },
    {
      "cell_type": "code",
      "metadata": {
        "id": "qoBaSTw8ijiH",
        "colab_type": "code",
        "colab": {
          "base_uri": "https://localhost:8080/",
          "height": 35
        },
        "outputId": "14d0aff1-4168-4c73-ad04-80e6ac4ffdd7"
      },
      "source": [
        "from __future__ import print_function\n",
        "import keras\n",
        "from keras.datasets import cifar10\n",
        "from keras.preprocessing.image import ImageDataGenerator\n",
        "from keras.models import Sequential\n",
        "from keras.layers import Dense, Dropout, Activation, Flatten\n",
        "from keras.layers import Conv2D, MaxPooling2D\n",
        "import os\n"
      ],
      "execution_count": 2,
      "outputs": [
        {
          "output_type": "stream",
          "text": [
            "Using TensorFlow backend.\n"
          ],
          "name": "stderr"
        }
      ]
    },
    {
      "cell_type": "markdown",
      "metadata": {
        "id": "y8MUFFiIrq3s",
        "colab_type": "text"
      },
      "source": [
        "##### Initializing parameters\n"
      ]
    },
    {
      "cell_type": "code",
      "metadata": {
        "id": "4xMcIj__jBeo",
        "colab_type": "code",
        "colab": {}
      },
      "source": [
        "\n",
        "batch_size = 32\n",
        "num_classes = 10\n",
        "epochs = 100\n",
        "data_augmentation = False\n",
        "num_predictions = 20\n",
        "save_dir = os.path.join(os.getcwd(), 'saved_models')\n",
        "model_name = 'keras_cifar10_trained_model.h5'"
      ],
      "execution_count": 0,
      "outputs": []
    },
    {
      "cell_type": "markdown",
      "metadata": {
        "id": "nfMwy2lvr7YB",
        "colab_type": "text"
      },
      "source": [
        "##### Splitting Train and Test Data from CIFAR Dataset"
      ]
    },
    {
      "cell_type": "code",
      "metadata": {
        "id": "IH_MVBUqjKEE",
        "colab_type": "code",
        "colab": {
          "base_uri": "https://localhost:8080/",
          "height": 109
        },
        "outputId": "3b1040c6-2874-4d7f-fe29-990a1432ad9b"
      },
      "source": [
        "# The data, split between train and test sets:\n",
        "(x_train, y_train), (x_test, y_test) = cifar10.load_data()\n",
        "print('x_train shape:', x_train.shape)\n",
        "print(x_train.shape[0], 'train samples')\n",
        "print(x_test.shape[0], 'test samples')"
      ],
      "execution_count": 4,
      "outputs": [
        {
          "output_type": "stream",
          "text": [
            "Downloading data from https://www.cs.toronto.edu/~kriz/cifar-10-python.tar.gz\n",
            "170500096/170498071 [==============================] - 12s 0us/step\n",
            "x_train shape: (50000, 32, 32, 3)\n",
            "50000 train samples\n",
            "10000 test samples\n"
          ],
          "name": "stdout"
        }
      ]
    },
    {
      "cell_type": "code",
      "metadata": {
        "id": "W3XfD_QZjTIY",
        "colab_type": "code",
        "colab": {}
      },
      "source": [
        "\n",
        "# Convert class vectors to binary class matrices.\n",
        "y_train = keras.utils.to_categorical(y_train, num_classes)\n",
        "y_test = keras.utils.to_categorical(y_test, num_classes)"
      ],
      "execution_count": 0,
      "outputs": []
    },
    {
      "cell_type": "markdown",
      "metadata": {
        "id": "XQAQKrfjsEo4",
        "colab_type": "text"
      },
      "source": [
        "##### Initializing the model"
      ]
    },
    {
      "cell_type": "code",
      "metadata": {
        "id": "5ZbqwAedja4T",
        "colab_type": "code",
        "colab": {}
      },
      "source": [
        "model = Sequential()\n",
        "model.add(Conv2D(32, (3, 3), padding='same',input_shape=x_train.shape[1:]))\n",
        "model.add(Activation('relu'))\n",
        "model.add(Conv2D(32, (3, 3)))\n",
        "model.add(Activation('relu'))\n",
        "model.add(MaxPooling2D(pool_size=(2, 2)))\n",
        "model.add(Dropout(rate=0.25))\n",
        "\n",
        "model.add(Conv2D(64, (3, 3), padding='same'))\n",
        "model.add(Activation('relu'))\n",
        "model.add(Conv2D(64, (3, 3)))\n",
        "model.add(Activation('relu'))\n",
        "model.add(MaxPooling2D(pool_size=(2, 2)))\n",
        "model.add(Dropout(rate=0.25))\n",
        "\n",
        "model.add(Flatten())\n",
        "model.add(Dense(512))\n",
        "model.add(Activation('relu'))\n",
        "model.add(Dropout(rate=0.5))\n",
        "model.add(Dense(num_classes))\n",
        "model.add(Activation('softmax'))"
      ],
      "execution_count": 0,
      "outputs": []
    },
    {
      "cell_type": "markdown",
      "metadata": {
        "id": "sJ83u3ogsKtd",
        "colab_type": "text"
      },
      "source": [
        "##### Initializing the optimizer"
      ]
    },
    {
      "cell_type": "code",
      "metadata": {
        "id": "shne6prNkn5e",
        "colab_type": "code",
        "colab": {}
      },
      "source": [
        "# initiate RMSprop optimizer\n",
        "opt = keras.optimizers.rmsprop(lr=0.0001, decay=1e-6)"
      ],
      "execution_count": 0,
      "outputs": []
    },
    {
      "cell_type": "markdown",
      "metadata": {
        "id": "u2ydMyMBsQDv",
        "colab_type": "text"
      },
      "source": [
        "##### Compiling the model"
      ]
    },
    {
      "cell_type": "code",
      "metadata": {
        "id": "FdIZ5_m1ktHt",
        "colab_type": "code",
        "colab": {
          "base_uri": "https://localhost:8080/",
          "height": 110
        },
        "outputId": "53487896-fa34-4aa3-c843-5c1a84ce30d3"
      },
      "source": [
        "# Let's train the model using RMSprop\n",
        "model.compile(loss='categorical_crossentropy',\n",
        "              optimizer=opt,\n",
        "              metrics=['accuracy'])\n",
        "\n",
        "x_train = x_train.astype('float32')\n",
        "x_test = x_test.astype('float32')\n",
        "x_train /= 255\n",
        "x_test /= 255"
      ],
      "execution_count": 9,
      "outputs": [
        {
          "output_type": "stream",
          "text": [
            "W0815 04:39:30.521091 139782909360000 deprecation_wrapper.py:119] From /usr/local/lib/python3.6/dist-packages/keras/optimizers.py:790: The name tf.train.Optimizer is deprecated. Please use tf.compat.v1.train.Optimizer instead.\n",
            "\n",
            "W0815 04:39:30.538933 139782909360000 deprecation_wrapper.py:119] From /usr/local/lib/python3.6/dist-packages/keras/backend/tensorflow_backend.py:3295: The name tf.log is deprecated. Please use tf.math.log instead.\n",
            "\n"
          ],
          "name": "stderr"
        }
      ]
    },
    {
      "cell_type": "markdown",
      "metadata": {
        "id": "eY6dRPqYsdjm",
        "colab_type": "text"
      },
      "source": [
        "##### Building the model"
      ]
    },
    {
      "cell_type": "code",
      "metadata": {
        "id": "cakx0XaXlzJa",
        "colab_type": "code",
        "colab": {
          "base_uri": "https://localhost:8080/",
          "height": 1000
        },
        "outputId": "89b5d63b-3635-40f4-bf2d-ade14d9966d1"
      },
      "source": [
        "if not data_augmentation:\n",
        "    print('Not using data augmentation.')\n",
        "    model.fit(x_train, y_train,\n",
        "              batch_size=batch_size,\n",
        "              epochs=epochs,\n",
        "              validation_data=(x_test, y_test),\n",
        "              shuffle=True)\n",
        "else:\n",
        "    print('Using real-time data augmentation.')\n",
        "    # This will do preprocessing and realtime data augmentation:\n",
        "    datagen = ImageDataGenerator(\n",
        "        featurewise_center=False,  # set input mean to 0 over the dataset\n",
        "        samplewise_center=False,  # set each sample mean to 0\n",
        "        featurewise_std_normalization=False,  # divide inputs by std of the dataset\n",
        "        samplewise_std_normalization=False,  # divide each input by its std\n",
        "        zca_whitening=False,  # apply ZCA whitening\n",
        "        zca_epsilon=1e-06,  # epsilon for ZCA whitening\n",
        "        rotation_range=0,  # randomly rotate images in the range (degrees, 0 to 180)\n",
        "        # randomly shift images horizontally (fraction of total width)\n",
        "        width_shift_range=0.1,\n",
        "        # randomly shift images vertically (fraction of total height)\n",
        "        height_shift_range=0.1,\n",
        "        shear_range=0.,  # set range for random shear\n",
        "        zoom_range=0.,  # set range for random zoom\n",
        "        channel_shift_range=0.,  # set range for random channel shifts\n",
        "        # set mode for filling points outside the input boundaries\n",
        "        fill_mode='nearest',\n",
        "        cval=0.,  # value used for fill_mode = \"constant\"\n",
        "        horizontal_flip=True,  # randomly flip images\n",
        "        vertical_flip=False,  # randomly flip images\n",
        "        # set rescaling factor (applied before any other transformation)\n",
        "        rescale=None,\n",
        "        # set function that will be applied on each input\n",
        "        preprocessing_function=None,\n",
        "        # image data format, either \"channels_first\" or \"channels_last\"\n",
        "        data_format=None,\n",
        "        # fraction of images reserved for validation (strictly between 0 and 1)\n",
        "        validation_split=0.25)\n",
        "    \n",
        "    # Compute quantities required for feature-wise normalization\n",
        "    # (std, mean, and principal components if ZCA whitening is applied).\n",
        "    datagen.fit(x_train)\n",
        "\n",
        "    # Fit the model on the batches generated by datagen.flow().\n",
        "    model.fit_generator(datagen.flow(x_train, y_train,batch_size=batch_size),\n",
        "                        epochs=epochs,\n",
        "                        validation_data=(x_test, y_test),workers=4,steps_per_epoch=1)"
      ],
      "execution_count": 18,
      "outputs": [
        {
          "output_type": "stream",
          "text": [
            "Not using data augmentation.\n",
            "Train on 50000 samples, validate on 10000 samples\n",
            "Epoch 1/100\n",
            "50000/50000 [==============================] - 20s 407us/step - loss: 1.7670 - acc: 0.3523 - val_loss: 1.5501 - val_acc: 0.4375\n",
            "Epoch 2/100\n",
            "50000/50000 [==============================] - 20s 398us/step - loss: 1.4926 - acc: 0.4611 - val_loss: 1.3485 - val_acc: 0.5112\n",
            "Epoch 3/100\n",
            "50000/50000 [==============================] - 20s 392us/step - loss: 1.3590 - acc: 0.5120 - val_loss: 1.3561 - val_acc: 0.5222\n",
            "Epoch 4/100\n",
            "50000/50000 [==============================] - 20s 392us/step - loss: 1.2587 - acc: 0.5520 - val_loss: 1.1714 - val_acc: 0.5847\n",
            "Epoch 5/100\n",
            "50000/50000 [==============================] - 20s 390us/step - loss: 1.1729 - acc: 0.5846 - val_loss: 1.0810 - val_acc: 0.6183\n",
            "Epoch 6/100\n",
            "50000/50000 [==============================] - 20s 390us/step - loss: 1.1021 - acc: 0.6126 - val_loss: 1.0302 - val_acc: 0.6388\n",
            "Epoch 7/100\n",
            "50000/50000 [==============================] - 19s 390us/step - loss: 1.0422 - acc: 0.6345 - val_loss: 0.9715 - val_acc: 0.6603\n",
            "Epoch 8/100\n",
            "50000/50000 [==============================] - 20s 390us/step - loss: 1.0000 - acc: 0.6496 - val_loss: 0.9345 - val_acc: 0.6745\n",
            "Epoch 9/100\n",
            "50000/50000 [==============================] - 20s 391us/step - loss: 0.9564 - acc: 0.6653 - val_loss: 0.9143 - val_acc: 0.6747\n",
            "Epoch 10/100\n",
            "50000/50000 [==============================] - 20s 390us/step - loss: 0.9239 - acc: 0.6767 - val_loss: 0.8695 - val_acc: 0.6961\n",
            "Epoch 11/100\n",
            "50000/50000 [==============================] - 19s 390us/step - loss: 0.8903 - acc: 0.6886 - val_loss: 0.8994 - val_acc: 0.6887\n",
            "Epoch 12/100\n",
            "50000/50000 [==============================] - 20s 390us/step - loss: 0.8640 - acc: 0.6992 - val_loss: 0.8533 - val_acc: 0.7058\n",
            "Epoch 13/100\n",
            "50000/50000 [==============================] - 20s 392us/step - loss: 0.8397 - acc: 0.7086 - val_loss: 0.8043 - val_acc: 0.7232\n",
            "Epoch 14/100\n",
            "50000/50000 [==============================] - 20s 390us/step - loss: 0.8168 - acc: 0.7184 - val_loss: 0.7789 - val_acc: 0.7300\n",
            "Epoch 15/100\n",
            "50000/50000 [==============================] - 20s 394us/step - loss: 0.7936 - acc: 0.7250 - val_loss: 0.7790 - val_acc: 0.7343\n",
            "Epoch 16/100\n",
            "50000/50000 [==============================] - 20s 393us/step - loss: 0.7839 - acc: 0.7286 - val_loss: 0.7986 - val_acc: 0.7245\n",
            "Epoch 17/100\n",
            "50000/50000 [==============================] - 20s 392us/step - loss: 0.7713 - acc: 0.7336 - val_loss: 0.7753 - val_acc: 0.7406\n",
            "Epoch 18/100\n",
            "50000/50000 [==============================] - 20s 391us/step - loss: 0.7552 - acc: 0.7382 - val_loss: 0.7336 - val_acc: 0.7474\n",
            "Epoch 19/100\n",
            "50000/50000 [==============================] - 20s 390us/step - loss: 0.7460 - acc: 0.7413 - val_loss: 0.7244 - val_acc: 0.7491\n",
            "Epoch 20/100\n",
            "50000/50000 [==============================] - 20s 391us/step - loss: 0.7374 - acc: 0.7468 - val_loss: 0.7317 - val_acc: 0.7487\n",
            "Epoch 21/100\n",
            "50000/50000 [==============================] - 20s 390us/step - loss: 0.7308 - acc: 0.7500 - val_loss: 0.7353 - val_acc: 0.7548\n",
            "Epoch 22/100\n",
            "50000/50000 [==============================] - 19s 388us/step - loss: 0.7284 - acc: 0.7524 - val_loss: 0.7013 - val_acc: 0.7577\n",
            "Epoch 23/100\n",
            "50000/50000 [==============================] - 19s 390us/step - loss: 0.7191 - acc: 0.7547 - val_loss: 0.7385 - val_acc: 0.7525\n",
            "Epoch 24/100\n",
            "50000/50000 [==============================] - 19s 389us/step - loss: 0.7129 - acc: 0.7575 - val_loss: 0.6823 - val_acc: 0.7670\n",
            "Epoch 25/100\n",
            "50000/50000 [==============================] - 19s 389us/step - loss: 0.7038 - acc: 0.7604 - val_loss: 0.7284 - val_acc: 0.7674\n",
            "Epoch 26/100\n",
            "50000/50000 [==============================] - 19s 390us/step - loss: 0.7000 - acc: 0.7623 - val_loss: 0.7088 - val_acc: 0.7571\n",
            "Epoch 27/100\n",
            "50000/50000 [==============================] - 20s 392us/step - loss: 0.6969 - acc: 0.7633 - val_loss: 0.6803 - val_acc: 0.7710\n",
            "Epoch 28/100\n",
            "50000/50000 [==============================] - 20s 391us/step - loss: 0.6938 - acc: 0.7665 - val_loss: 0.6658 - val_acc: 0.7725\n",
            "Epoch 29/100\n",
            "50000/50000 [==============================] - 19s 389us/step - loss: 0.6887 - acc: 0.7682 - val_loss: 0.6918 - val_acc: 0.7674\n",
            "Epoch 30/100\n",
            "50000/50000 [==============================] - 20s 390us/step - loss: 0.6811 - acc: 0.7703 - val_loss: 0.6944 - val_acc: 0.7620\n",
            "Epoch 31/100\n",
            "50000/50000 [==============================] - 20s 395us/step - loss: 0.6812 - acc: 0.7699 - val_loss: 0.6955 - val_acc: 0.7675\n",
            "Epoch 32/100\n",
            "50000/50000 [==============================] - 19s 390us/step - loss: 0.6759 - acc: 0.7743 - val_loss: 0.6673 - val_acc: 0.7773\n",
            "Epoch 33/100\n",
            "50000/50000 [==============================] - 20s 392us/step - loss: 0.6692 - acc: 0.7729 - val_loss: 0.6888 - val_acc: 0.7658\n",
            "Epoch 34/100\n",
            "50000/50000 [==============================] - 20s 390us/step - loss: 0.6674 - acc: 0.7771 - val_loss: 0.6559 - val_acc: 0.7821\n",
            "Epoch 35/100\n",
            "50000/50000 [==============================] - 20s 392us/step - loss: 0.6618 - acc: 0.7776 - val_loss: 0.6638 - val_acc: 0.7753\n",
            "Epoch 36/100\n",
            "50000/50000 [==============================] - 19s 390us/step - loss: 0.6631 - acc: 0.7773 - val_loss: 0.6554 - val_acc: 0.7787\n",
            "Epoch 37/100\n",
            "50000/50000 [==============================] - 20s 391us/step - loss: 0.6574 - acc: 0.7780 - val_loss: 0.6994 - val_acc: 0.7768\n",
            "Epoch 38/100\n",
            "50000/50000 [==============================] - 20s 391us/step - loss: 0.6599 - acc: 0.7813 - val_loss: 0.6546 - val_acc: 0.7800\n",
            "Epoch 39/100\n",
            "50000/50000 [==============================] - 19s 390us/step - loss: 0.6523 - acc: 0.7826 - val_loss: 0.6651 - val_acc: 0.7773\n",
            "Epoch 40/100\n",
            "50000/50000 [==============================] - 20s 391us/step - loss: 0.6487 - acc: 0.7810 - val_loss: 0.7214 - val_acc: 0.7621\n",
            "Epoch 41/100\n",
            "50000/50000 [==============================] - 19s 390us/step - loss: 0.6499 - acc: 0.7838 - val_loss: 0.7364 - val_acc: 0.7563\n",
            "Epoch 42/100\n",
            "50000/50000 [==============================] - 19s 390us/step - loss: 0.6437 - acc: 0.7839 - val_loss: 0.6411 - val_acc: 0.7819\n",
            "Epoch 43/100\n",
            "50000/50000 [==============================] - 19s 390us/step - loss: 0.6423 - acc: 0.7850 - val_loss: 0.6390 - val_acc: 0.7877\n",
            "Epoch 44/100\n",
            "50000/50000 [==============================] - 20s 390us/step - loss: 0.6428 - acc: 0.7862 - val_loss: 0.6834 - val_acc: 0.7724\n",
            "Epoch 45/100\n",
            "50000/50000 [==============================] - 20s 392us/step - loss: 0.6377 - acc: 0.7866 - val_loss: 0.6275 - val_acc: 0.7871\n",
            "Epoch 46/100\n",
            "50000/50000 [==============================] - 19s 390us/step - loss: 0.6316 - acc: 0.7888 - val_loss: 0.6546 - val_acc: 0.7844\n",
            "Epoch 47/100\n",
            "50000/50000 [==============================] - 20s 395us/step - loss: 0.6350 - acc: 0.7910 - val_loss: 0.6880 - val_acc: 0.7750\n",
            "Epoch 48/100\n",
            "50000/50000 [==============================] - 19s 390us/step - loss: 0.6374 - acc: 0.7870 - val_loss: 0.6387 - val_acc: 0.7871\n",
            "Epoch 49/100\n",
            "50000/50000 [==============================] - 20s 391us/step - loss: 0.6347 - acc: 0.7890 - val_loss: 0.7077 - val_acc: 0.7806\n",
            "Epoch 50/100\n",
            "50000/50000 [==============================] - 20s 391us/step - loss: 0.6311 - acc: 0.7914 - val_loss: 0.6457 - val_acc: 0.7834\n",
            "Epoch 51/100\n",
            "50000/50000 [==============================] - 20s 390us/step - loss: 0.6317 - acc: 0.7896 - val_loss: 0.6606 - val_acc: 0.7811\n",
            "Epoch 52/100\n",
            "50000/50000 [==============================] - 19s 389us/step - loss: 0.6268 - acc: 0.7909 - val_loss: 0.6987 - val_acc: 0.7666\n",
            "Epoch 53/100\n",
            "50000/50000 [==============================] - 19s 389us/step - loss: 0.6264 - acc: 0.7921 - val_loss: 0.7006 - val_acc: 0.7783\n",
            "Epoch 54/100\n",
            "50000/50000 [==============================] - 19s 388us/step - loss: 0.6241 - acc: 0.7917 - val_loss: 0.6795 - val_acc: 0.7742\n",
            "Epoch 55/100\n",
            "50000/50000 [==============================] - 20s 390us/step - loss: 0.6219 - acc: 0.7935 - val_loss: 0.6588 - val_acc: 0.7839\n",
            "Epoch 56/100\n",
            "50000/50000 [==============================] - 19s 390us/step - loss: 0.6275 - acc: 0.7911 - val_loss: 0.6371 - val_acc: 0.7881\n",
            "Epoch 57/100\n",
            "50000/50000 [==============================] - 19s 389us/step - loss: 0.6212 - acc: 0.7936 - val_loss: 0.6557 - val_acc: 0.7804\n",
            "Epoch 58/100\n",
            "50000/50000 [==============================] - 19s 389us/step - loss: 0.6194 - acc: 0.7922 - val_loss: 0.6711 - val_acc: 0.7908\n",
            "Epoch 59/100\n",
            "50000/50000 [==============================] - 19s 390us/step - loss: 0.6174 - acc: 0.7938 - val_loss: 0.7285 - val_acc: 0.7601\n",
            "Epoch 60/100\n",
            "50000/50000 [==============================] - 19s 390us/step - loss: 0.6198 - acc: 0.7946 - val_loss: 0.7349 - val_acc: 0.7637\n",
            "Epoch 61/100\n",
            "50000/50000 [==============================] - 20s 390us/step - loss: 0.6127 - acc: 0.7960 - val_loss: 0.6705 - val_acc: 0.7739\n",
            "Epoch 62/100\n",
            "50000/50000 [==============================] - 20s 391us/step - loss: 0.6183 - acc: 0.7945 - val_loss: 0.6374 - val_acc: 0.7872\n",
            "Epoch 63/100\n",
            "50000/50000 [==============================] - 20s 396us/step - loss: 0.6196 - acc: 0.7947 - val_loss: 0.6552 - val_acc: 0.7833\n",
            "Epoch 64/100\n",
            "50000/50000 [==============================] - 20s 394us/step - loss: 0.6136 - acc: 0.7955 - val_loss: 0.6655 - val_acc: 0.7820\n",
            "Epoch 65/100\n",
            "50000/50000 [==============================] - 20s 390us/step - loss: 0.6163 - acc: 0.7960 - val_loss: 0.6747 - val_acc: 0.7862\n",
            "Epoch 66/100\n",
            "50000/50000 [==============================] - 20s 390us/step - loss: 0.6131 - acc: 0.7959 - val_loss: 0.6821 - val_acc: 0.7810\n",
            "Epoch 67/100\n",
            "50000/50000 [==============================] - 19s 389us/step - loss: 0.6122 - acc: 0.7947 - val_loss: 0.7017 - val_acc: 0.7924\n",
            "Epoch 68/100\n",
            "50000/50000 [==============================] - 19s 390us/step - loss: 0.6179 - acc: 0.7940 - val_loss: 0.6288 - val_acc: 0.7960\n",
            "Epoch 69/100\n",
            "50000/50000 [==============================] - 19s 390us/step - loss: 0.6127 - acc: 0.7937 - val_loss: 0.6435 - val_acc: 0.7845\n",
            "Epoch 70/100\n",
            "50000/50000 [==============================] - 20s 390us/step - loss: 0.6100 - acc: 0.7989 - val_loss: 0.7257 - val_acc: 0.7681\n",
            "Epoch 71/100\n",
            "50000/50000 [==============================] - 19s 390us/step - loss: 0.6136 - acc: 0.7973 - val_loss: 0.6762 - val_acc: 0.7783\n",
            "Epoch 72/100\n",
            "50000/50000 [==============================] - 19s 389us/step - loss: 0.6106 - acc: 0.7982 - val_loss: 0.6817 - val_acc: 0.7708\n",
            "Epoch 73/100\n",
            "50000/50000 [==============================] - 19s 389us/step - loss: 0.6062 - acc: 0.7994 - val_loss: 0.6708 - val_acc: 0.7849\n",
            "Epoch 74/100\n",
            "50000/50000 [==============================] - 19s 390us/step - loss: 0.6054 - acc: 0.7980 - val_loss: 0.6984 - val_acc: 0.7711\n",
            "Epoch 75/100\n",
            "50000/50000 [==============================] - 19s 389us/step - loss: 0.6089 - acc: 0.7985 - val_loss: 0.7454 - val_acc: 0.7737\n",
            "Epoch 76/100\n",
            "50000/50000 [==============================] - 19s 390us/step - loss: 0.6113 - acc: 0.7970 - val_loss: 0.6600 - val_acc: 0.7875\n",
            "Epoch 77/100\n",
            "50000/50000 [==============================] - 19s 390us/step - loss: 0.6102 - acc: 0.7981 - val_loss: 0.7115 - val_acc: 0.7631\n",
            "Epoch 78/100\n",
            "50000/50000 [==============================] - 19s 390us/step - loss: 0.6088 - acc: 0.7973 - val_loss: 0.6448 - val_acc: 0.7899\n",
            "Epoch 79/100\n",
            "50000/50000 [==============================] - 20s 393us/step - loss: 0.6084 - acc: 0.7971 - val_loss: 0.6513 - val_acc: 0.7863\n",
            "Epoch 80/100\n",
            "50000/50000 [==============================] - 20s 392us/step - loss: 0.6126 - acc: 0.7956 - val_loss: 0.6501 - val_acc: 0.7879\n",
            "Epoch 81/100\n",
            "50000/50000 [==============================] - 19s 389us/step - loss: 0.6088 - acc: 0.7983 - val_loss: 0.6988 - val_acc: 0.7784\n",
            "Epoch 82/100\n",
            "50000/50000 [==============================] - 19s 389us/step - loss: 0.6113 - acc: 0.7978 - val_loss: 0.6566 - val_acc: 0.7830\n",
            "Epoch 83/100\n",
            "50000/50000 [==============================] - 19s 390us/step - loss: 0.6151 - acc: 0.7977 - val_loss: 0.6628 - val_acc: 0.7830\n",
            "Epoch 84/100\n",
            "50000/50000 [==============================] - 19s 389us/step - loss: 0.6121 - acc: 0.7985 - val_loss: 0.6910 - val_acc: 0.7846\n",
            "Epoch 85/100\n",
            "50000/50000 [==============================] - 19s 389us/step - loss: 0.6158 - acc: 0.7964 - val_loss: 0.7212 - val_acc: 0.7850\n",
            "Epoch 86/100\n",
            "50000/50000 [==============================] - 19s 390us/step - loss: 0.6130 - acc: 0.7954 - val_loss: 0.6950 - val_acc: 0.7676\n",
            "Epoch 87/100\n",
            "50000/50000 [==============================] - 19s 389us/step - loss: 0.6110 - acc: 0.7989 - val_loss: 0.7487 - val_acc: 0.7710\n",
            "Epoch 88/100\n",
            "50000/50000 [==============================] - 19s 389us/step - loss: 0.6139 - acc: 0.7958 - val_loss: 0.7412 - val_acc: 0.7622\n",
            "Epoch 89/100\n",
            "50000/50000 [==============================] - 20s 390us/step - loss: 0.6077 - acc: 0.7982 - val_loss: 0.7212 - val_acc: 0.7536\n",
            "Epoch 90/100\n",
            "50000/50000 [==============================] - 20s 391us/step - loss: 0.6096 - acc: 0.7983 - val_loss: 0.6717 - val_acc: 0.7809\n",
            "Epoch 91/100\n",
            "50000/50000 [==============================] - 19s 390us/step - loss: 0.6109 - acc: 0.7977 - val_loss: 0.7144 - val_acc: 0.7644\n",
            "Epoch 92/100\n",
            "50000/50000 [==============================] - 19s 389us/step - loss: 0.6074 - acc: 0.7999 - val_loss: 0.6449 - val_acc: 0.7911\n",
            "Epoch 93/100\n",
            "50000/50000 [==============================] - 19s 388us/step - loss: 0.6107 - acc: 0.7973 - val_loss: 0.6692 - val_acc: 0.7740\n",
            "Epoch 94/100\n",
            "50000/50000 [==============================] - 19s 389us/step - loss: 0.6119 - acc: 0.7989 - val_loss: 0.6438 - val_acc: 0.7837\n",
            "Epoch 95/100\n",
            "50000/50000 [==============================] - 20s 395us/step - loss: 0.6054 - acc: 0.7970 - val_loss: 0.7298 - val_acc: 0.7666\n",
            "Epoch 96/100\n",
            "50000/50000 [==============================] - 20s 391us/step - loss: 0.6138 - acc: 0.7961 - val_loss: 0.6771 - val_acc: 0.7786\n",
            "Epoch 97/100\n",
            "50000/50000 [==============================] - 19s 388us/step - loss: 0.6093 - acc: 0.7980 - val_loss: 0.7237 - val_acc: 0.7651\n",
            "Epoch 98/100\n",
            "50000/50000 [==============================] - 19s 389us/step - loss: 0.6069 - acc: 0.8004 - val_loss: 0.6747 - val_acc: 0.7862\n",
            "Epoch 99/100\n",
            "50000/50000 [==============================] - 20s 391us/step - loss: 0.6125 - acc: 0.7978 - val_loss: 0.6658 - val_acc: 0.7843\n",
            "Epoch 100/100\n",
            "50000/50000 [==============================] - 19s 390us/step - loss: 0.6147 - acc: 0.7984 - val_loss: 0.6953 - val_acc: 0.7721\n"
          ],
          "name": "stdout"
        }
      ]
    },
    {
      "cell_type": "markdown",
      "metadata": {
        "id": "vcGfGfMLsj01",
        "colab_type": "text"
      },
      "source": [
        "##### Saving the model"
      ]
    },
    {
      "cell_type": "code",
      "metadata": {
        "id": "qi2Jsz5TmZ3R",
        "colab_type": "code",
        "colab": {
          "base_uri": "https://localhost:8080/",
          "height": 35
        },
        "outputId": "2284aa62-6856-4163-ef47-27d11ad34461"
      },
      "source": [
        "# Save model and weights\n",
        "if not os.path.isdir(save_dir):\n",
        "    os.makedirs(save_dir)\n",
        "model_path = os.path.join(save_dir, model_name)\n",
        "model.save(model_path)\n",
        "print('Saved trained model at %s ' % model_path)"
      ],
      "execution_count": 19,
      "outputs": [
        {
          "output_type": "stream",
          "text": [
            "Saved trained model at /content/saved_models/keras_cifar10_trained_model.h5 \n"
          ],
          "name": "stdout"
        }
      ]
    },
    {
      "cell_type": "markdown",
      "metadata": {
        "id": "OlLfaObtsr-O",
        "colab_type": "text"
      },
      "source": [
        "##### Determining the accuracy of the model"
      ]
    },
    {
      "cell_type": "code",
      "metadata": {
        "id": "mdukFLdNmdvP",
        "colab_type": "code",
        "colab": {
          "base_uri": "https://localhost:8080/",
          "height": 72
        },
        "outputId": "fb002c75-c8fb-4c4d-e43d-0a072a496576"
      },
      "source": [
        "# Score trained model.\n",
        "scores = model.evaluate(x_test, y_test, verbose=1)\n",
        "print('Test loss:', scores[0])\n",
        "print('Test accuracy:', scores[1])"
      ],
      "execution_count": 20,
      "outputs": [
        {
          "output_type": "stream",
          "text": [
            "10000/10000 [==============================] - 1s 147us/step\n",
            "Test loss: 0.6953007219791413\n",
            "Test accuracy: 0.7721\n"
          ],
          "name": "stdout"
        }
      ]
    }
  ]
}